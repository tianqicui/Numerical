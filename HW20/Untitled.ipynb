{
 "cells": [
  {
   "cell_type": "code",
   "execution_count": 7,
   "metadata": {},
   "outputs": [
    {
     "ename": "SyntaxError",
     "evalue": "unexpected EOF while parsing (<ipython-input-7-1d6e818350ac>, line 33)",
     "output_type": "error",
     "traceback": [
      "\u001b[1;36m  File \u001b[1;32m\"<ipython-input-7-1d6e818350ac>\"\u001b[1;36m, line \u001b[1;32m33\u001b[0m\n\u001b[1;33m    plt.plot(bins,1/(var*sqrt(2*pi)*exp(-(X-mean)**2/(2*var**2)))\u001b[0m\n\u001b[1;37m                                                                 ^\u001b[0m\n\u001b[1;31mSyntaxError\u001b[0m\u001b[1;31m:\u001b[0m unexpected EOF while parsing\n"
     ]
    }
   ],
   "source": [
    "# Problem 2\n",
    "from numpy import exp,pi,sqrt\n",
    "from pylab import show\n",
    "import numpy as np\n",
    "import matplotlib.pyplot as plt\n",
    "\n",
    "# Input mean,variance,and amount of random numbers\n",
    "mean = 2\n",
    "var = 2\n",
    "N = 10000\n",
    "\n",
    "# MCMC method initialization\n",
    "y = []\n",
    "\n",
    "\n",
    "# Generation of random numbers\n",
    "for i in range(N):\n",
    "    x = np.random.normal(mean,var)\n",
    "    q = np.random.normal(x,1)\n",
    "    r = np.random.normal(0,1)\n",
    "    if q/x>r:\n",
    "        y.append(q)\n",
    "    else:\n",
    "        y.append(x)\n",
    "\n",
    "# Plot the results as a histogram\n",
    "plt.figure()\n",
    "count,bins,ignored = plt.hist(y,25,normed=True,color='black',histotype='step')\n",
    "\n",
    "# Plot of the pdf of Gaussian distribution\n",
    "X = np.random.normal(mean,var,N)\n",
    "count,bins,ignored = plt.hist(X,25,normed=True)\n",
    "plt.plot(bins,1/(var*sqrt(2*pi)*exp(-(X-mean)**2/(2*var**2)))"
   ]
  },
  {
   "cell_type": "code",
   "execution_count": null,
   "metadata": {
    "collapsed": true
   },
   "outputs": [],
   "source": []
  },
  {
   "cell_type": "code",
   "execution_count": null,
   "metadata": {
    "collapsed": true
   },
   "outputs": [],
   "source": []
  }
 ],
 "metadata": {
  "kernelspec": {
   "display_name": "Python 3",
   "language": "python",
   "name": "python3"
  },
  "language_info": {
   "codemirror_mode": {
    "name": "ipython",
    "version": 3
   },
   "file_extension": ".py",
   "mimetype": "text/x-python",
   "name": "python",
   "nbconvert_exporter": "python",
   "pygments_lexer": "ipython3",
   "version": "3.6.3"
  }
 },
 "nbformat": 4,
 "nbformat_minor": 2
}
