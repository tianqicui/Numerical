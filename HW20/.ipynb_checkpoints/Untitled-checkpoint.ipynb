{
 "cells": [
  {
   "cell_type": "code",
   "execution_count": 6,
   "metadata": {},
   "outputs": [
    {
     "ename": "SyntaxError",
     "evalue": "invalid syntax (<ipython-input-6-d77af970b77f>, line 34)",
     "output_type": "error",
     "traceback": [
      "\u001b[1;36m  File \u001b[1;32m\"<ipython-input-6-d77af970b77f>\"\u001b[1;36m, line \u001b[1;32m34\u001b[0m\n\u001b[1;33m    plt.show()\u001b[0m\n\u001b[1;37m      ^\u001b[0m\n\u001b[1;31mSyntaxError\u001b[0m\u001b[1;31m:\u001b[0m invalid syntax\n"
     ]
    }
   ],
   "source": [
    "# Problem 2\n",
    "from numpy import exp,pi,sqrt\n",
    "from pylab import show\n",
    "import numpy as np\n",
    "import matplotlib.pyplot as plt\n",
    "\n",
    "# Input mean,variance,and amount of random numbers\n",
    "mean = 2\n",
    "var = 2\n",
    "N = 10000\n",
    "\n",
    "# MCMC method initialization\n",
    "y = []\n",
    "\n",
    "\n",
    "# Generation of random numbers\n",
    "for i in range(N):\n",
    "    x = np.random.normal(mean,var)\n",
    "    q = np.random.normal(x,1)\n",
    "    r = np.random.normal(0,1)\n",
    "    if q/x>r:\n",
    "        y.append(q)\n",
    "    else:\n",
    "        y.append(x)\n",
    "\n",
    "# Plot the results as a histogram\n",
    "plt.figure()\n",
    "count,bins,ignored = plt.hist(y,25,normed=True,color='black',histotype='step')\n",
    "\n",
    "# Plot of the pdf of Gaussian distribution\n",
    "X = np.random.normal(mean,var,N)\n",
    "count,bins,ignored = plt.hist(X,25,normed=True)\n",
    "plt.plot(bins,1/(var*sqrt(2*pi)*exp(-(x-mean)**2/(2*var**2)))\n",
    "plt.xlabel(\"x\")\n",
    "plt.ylabel('p(x)')\n",
    "show()"
   ]
  },
  {
   "cell_type": "code",
   "execution_count": null,
   "metadata": {
    "collapsed": true
   },
   "outputs": [],
   "source": []
  },
  {
   "cell_type": "code",
   "execution_count": null,
   "metadata": {
    "collapsed": true
   },
   "outputs": [],
   "source": []
  }
 ],
 "metadata": {
  "kernelspec": {
   "display_name": "Python 3",
   "language": "python",
   "name": "python3"
  }
 },
 "nbformat": 4,
 "nbformat_minor": 2
}
